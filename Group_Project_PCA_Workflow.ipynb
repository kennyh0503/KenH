{
 "cells": [
  {
   "cell_type": "code",
   "execution_count": 1,
   "metadata": {},
   "outputs": [
    {
     "name": "stderr",
     "output_type": "stream",
     "text": [
      "24/05/16 14:43:21 WARN Utils: Your hostname, seons-MacBook-Pro.local resolves to a loopback address: 127.0.0.1; using 10.25.172.131 instead (on interface en0)\n",
      "24/05/16 14:43:21 WARN Utils: Set SPARK_LOCAL_IP if you need to bind to another address\n",
      "Setting default log level to \"WARN\".\n",
      "To adjust logging level use sc.setLogLevel(newLevel). For SparkR, use setLogLevel(newLevel).\n",
      "24/05/16 14:43:21 WARN NativeCodeLoader: Unable to load native-hadoop library for your platform... using builtin-java classes where applicable\n"
     ]
    }
   ],
   "source": [
    "from pyspark.sql import SparkSession\n",
    "spark = SparkSession.builder \\\n",
    "    .appName(\"Parquet EDA\") \\\n",
    "    .getOrCreate()"
   ]
  },
  {
   "cell_type": "code",
   "execution_count": 2,
   "metadata": {},
   "outputs": [],
   "source": [
    "parquet_directory = \"/Users/seonminhwang/Downloads/yellow_tripdata_2024-01.parquet\"\n",
    "df = spark.read.parquet(parquet_directory)"
   ]
  },
  {
   "cell_type": "code",
   "execution_count": 3,
   "metadata": {},
   "outputs": [
    {
     "data": {
      "text/plain": [
       "DataFrame[VendorID: int, tpep_pickup_datetime: timestamp_ntz, tpep_dropoff_datetime: timestamp_ntz, passenger_count: bigint, trip_distance: double, RatecodeID: bigint, store_and_fwd_flag: string, PULocationID: int, DOLocationID: int, payment_type: bigint, fare_amount: double, extra: double, mta_tax: double, tip_amount: double, tolls_amount: double, improvement_surcharge: double, total_amount: double, congestion_surcharge: double, Airport_fee: double]"
      ]
     },
     "execution_count": 3,
     "metadata": {},
     "output_type": "execute_result"
    }
   ],
   "source": [
    "df"
   ]
  },
  {
   "cell_type": "markdown",
   "metadata": {},
   "source": [
    "## Step 1. Preprocessing\n",
    "\n",
    "- Remove rows with any missing values (na.drop).\r",
    "- \n",
    "Compute Trip Duration: Add a new column to calculate the trip duration in seconds by subtracting the pickup time from the dropoff time\n",
    "- Filter Invalid Durations: Remove trips with non-positive durations.s."
   ]
  },
  {
   "cell_type": "code",
   "execution_count": 4,
   "metadata": {},
   "outputs": [],
   "source": [
    "from pyspark.sql.functions import col, unix_timestamp\n",
    "\n",
    "# Data cleaning and preparation\n",
    "df_cleaned = df.na.drop()\n",
    "\n",
    "# Add a column for trip duration in seconds\n",
    "df_cleaned = df_cleaned.withColumn(\"trip_duration\", \n",
    "                                   (unix_timestamp(\"tpep_dropoff_datetime\") - unix_timestamp(\"tpep_pickup_datetime\")))\n",
    "\n",
    "# Filter out trips with invalid durations\n",
    "df_cleaned = df_cleaned.filter(col(\"trip_duration\") > 0)"
   ]
  },
  {
   "cell_type": "markdown",
   "metadata": {},
   "source": [
    "## Step 2: Feature Selection\n",
    "\n",
    "- Select Features: Extract relevant features for anomaly detection.\r",
    "- \n",
    "Vector Assembler: Use VectorAssembler to combine the selected features into a single vector column named features."
   ]
  },
  {
   "cell_type": "code",
   "execution_count": 5,
   "metadata": {},
   "outputs": [],
   "source": [
    "# Select relevant features for analysis\n",
    "features_df = df_cleaned.select(\"trip_duration\", \"trip_distance\", \"fare_amount\", \"total_amount\", \"tip_amount\", \"tolls_amount\", \"congestion_surcharge\", \"airport_fee\")\n",
    "\n",
    "# Assemble features into a vector\n",
    "from pyspark.ml.feature import VectorAssembler\n",
    "\n",
    "assembler = VectorAssembler(inputCols=features_df.columns, outputCol=\"features\")\n",
    "vector_df = assembler.transform(features_df)"
   ]
  },
  {
   "cell_type": "markdown",
   "metadata": {},
   "source": [
    "## Step 3. PCA/Spectral Analysis\n",
    "\n",
    "- Apply PCA: Reduce the dimensionality of the feature space by applying PCA to the features column.\n",
    "- The result is a new DataFrame with a pca_features column containing the principal components.\n",
    "- \n",
    "Show PCA Results: Display the transformed features (principal components)."
   ]
  },
  {
   "cell_type": "code",
   "execution_count": 6,
   "metadata": {},
   "outputs": [
    {
     "name": "stderr",
     "output_type": "stream",
     "text": [
      "24/05/16 14:43:26 WARN InstanceBuilder: Failed to load implementation from:dev.ludovic.netlib.blas.JNIBLAS\n",
      "24/05/16 14:43:26 WARN InstanceBuilder: Failed to load implementation from:dev.ludovic.netlib.blas.VectorBLAS\n",
      "24/05/16 14:43:27 WARN InstanceBuilder: Failed to load implementation from:dev.ludovic.netlib.lapack.JNILAPACK\n"
     ]
    },
    {
     "name": "stdout",
     "output_type": "stream",
     "text": [
      "+-------------------------------------------------------------+\n",
      "|pca_features                                                 |\n",
      "+-------------------------------------------------------------+\n",
      "|[-1188.0928235326426,-24.403295325457577,-2.5811511297034087]|\n",
      "|[-396.07138977086663,-19.769360605216416,-1.3599362485334496]|\n",
      "|[-1075.1311763460742,-35.55630950746277,-1.1652663740579685] |\n",
      "|[-498.06539626212776,-17.84952562419442,-1.5367570652989466] |\n",
      "|[-366.0592080162913,-16.351994975058986,-1.8449171847132484] |\n",
      "|[-1943.1678745733077,-44.571947010624925,-2.9976458538945434]|\n",
      "|[-1563.2723123973706,-75.02536527516047,-1.11805952713401]   |\n",
      "|[-1680.1278819766164,-33.51066095473422,-2.9226244935073793] |\n",
      "|[-1691.1563543271575,-41.57229142101836,-1.66357094643467]   |\n",
      "|[-68.02743151198405,-7.762550139949549,-1.1662452304279116]  |\n",
      "|[-379.0496959555954,-13.550097682931202,-1.4868628315509878] |\n",
      "|[-543.0945197405484,-26.11104426552091,-2.9947907921389216]  |\n",
      "|[-2196.351810741188,-96.75106574589513,-7.341579996069308]   |\n",
      "|[-224.04393561972185,-12.212945523913204,-1.5531461143080878]|\n",
      "|[-230.0438457101668,-12.144596419394022,-1.1425978733772575] |\n",
      "|[-828.1119692450004,-30.43287896831087,0.05459368488542256]  |\n",
      "|[-756.0846544773718,-22.934878296591297,-2.3381880902436265] |\n",
      "|[-19.027710584244286,-7.928478686749298,-1.2037231507242987] |\n",
      "|[-399.06560249774304,-18.102764788940856,-1.4169190591346965]|\n",
      "|[-1019.1237254503225,-33.71141913277125,-3.008421604203364]  |\n",
      "+-------------------------------------------------------------+\n",
      "only showing top 20 rows\n",
      "\n"
     ]
    }
   ],
   "source": [
    "from pyspark.ml.feature import PCA\n",
    "from pyspark.ml.linalg import Vectors\n",
    "from pyspark.ml.stat import Summarizer\n",
    "\n",
    "# Apply PCA\n",
    "pca = PCA(k=3, inputCol=\"features\", outputCol=\"pca_features\")\n",
    "pca_model = pca.fit(vector_df)\n",
    "pca_result = pca_model.transform(vector_df)\n",
    "\n",
    "# Show PCA results\n",
    "pca_result.select(\"pca_features\").show(truncate=False)"
   ]
  },
  {
   "cell_type": "markdown",
   "metadata": {},
   "source": [
    "## Step 4: Anomaly Detection\n",
    "- Compute PCA Norm: Define and register a UDF to calculate the Euclidean norm of PCA features, then add this norm as a new column (pca_norm) in the DataFrame.\n",
    "- Calculate Statistics: Compute summary statistics (mean and standard deviation) for the pca_norm column.\n",
    "- Set Anomaly Threshold: Define an anomaly threshold as the mean plus three times the standard deviation of pca_norm.\n",
    "- Identify and Show Anomalies: Filter the DataFrame for rows where pca_norm exceeds the threshold and display these anomalies."
   ]
  },
  {
   "cell_type": "code",
   "execution_count": 7,
   "metadata": {},
   "outputs": [
    {
     "name": "stderr",
     "output_type": "stream",
     "text": [
      "24/05/16 14:43:33 WARN GarbageCollectionMetrics: To enable non-built-in garbage collector(s) List(G1 Concurrent GC), users should configure it(them) to spark.eventLog.gcMetrics.youngGenerationGarbageCollectors or spark.eventLog.gcMetrics.oldGenerationGarbageCollectors\n",
      "                                                                                \r"
     ]
    },
    {
     "name": "stdout",
     "output_type": "stream",
     "text": [
      "+-------------+-------------+-----------+------------+----------+------------+--------------------+-----------+--------------------------------------------+-----------------------------------------------------------+-----------------+\n",
      "|trip_duration|trip_distance|fare_amount|total_amount|tip_amount|tolls_amount|congestion_surcharge|airport_fee|features                                    |pca_features                                               |pca_norm         |\n",
      "+-------------+-------------+-----------+------------+----------+------------+--------------------+-----------+--------------------------------------------+-----------------------------------------------------------+-----------------+\n",
      "|86108        |2.75         |17.7       |28.38       |5.68      |0.0         |2.5                 |0.0        |[86108.0,2.75,17.7,28.38,5.68,0.0,2.5,0.0]  |[-86107.58775961242,268.32854823910685,-5.901645531652209] |86108.00604368083|\n",
      "|85969        |4.9          |33.1       |49.53       |11.43     |0.0         |2.5                 |0.0        |[85969.0,4.9,33.1,49.53,11.43,0.0,2.5,0.0]  |[-85968.68145330912,241.29692216885053,-7.675553590754974] |85969.02043142813|\n",
      "|86025        |1.18         |7.2        |12.2        |0.0       |0.0         |2.5                 |0.0        |[86025.0,1.18,7.2,12.2,0.0,0.0,2.5,0.0]     |[-86024.51974194532,287.6627116656953,-4.56317455424267]   |86025.00082819287|\n",
      "|86205        |1.38         |12.1       |17.1        |0.0       |0.0         |2.5                 |0.0        |[86205.0,1.38,12.1,17.1,0.0,0.0,2.5,0.0]    |[-86204.54252757264,281.4908560009982,-5.382654034955563]  |86205.00228213592|\n",
      "|78053        |3.33         |20.5       |25.5        |0.0       |0.0         |2.5                 |0.0        |[78053.0,3.33,20.5,25.5,0.0,0.0,2.5,0.0]    |[-78052.63452522932,241.00801897636566,-4.83770193297891]  |78053.0067620562 |\n",
      "|86294        |1.69         |26.8       |31.8        |0.0       |0.0         |2.5                 |0.0        |[86294.0,1.69,26.8,31.8,0.0,0.0,2.5,0.0]    |[-86293.61349667345,261.4365700473971,-8.108731426789598]  |86294.0099030341 |\n",
      "|86237        |3.99         |26.8       |38.16       |6.36      |0.0         |2.5                 |0.0        |[86237.0,3.99,26.8,38.16,6.36,0.0,2.5,0.0]  |[-86236.633821515,255.4347840294297,-6.64241090630314]     |86237.01237819281|\n",
      "|86298        |7.01         |40.1       |54.12       |9.02      |0.0         |2.5                 |0.0        |[86298.0,7.01,40.1,54.12,9.02,0.0,2.5,0.0]  |[-86297.70749763228,234.53387240279798,-6.737583655993862] |86298.02645993265|\n",
      "|83621        |1.56         |13.5       |22.2        |3.7       |0.0         |2.5                 |0.0        |[83621.0,1.56,13.5,22.2,3.7,0.0,2.5,0.0]    |[-83620.57619006644,267.2900666711778,-5.854908610733646]  |83621.00358533376|\n",
      "|86211        |5.04         |31.0       |36.0        |0.0       |0.0         |2.5                 |0.0        |[86211.0,5.04,31.0,36.0,0.0,0.0,2.5,0.0]    |[-86210.63626035965,254.8467725933382,-5.6571325856170835] |86211.01312069525|\n",
      "|85288        |0.99         |9.3        |14.3        |0.0       |0.0         |2.5                 |0.0        |[85288.0,0.99,9.3,14.3,0.0,0.0,2.5,0.0]     |[-85287.53436104562,282.20348898737126,-5.152430475309318] |85288.00139962991|\n",
      "|86296        |2.36         |14.9       |21.89       |1.99      |0.0         |2.5                 |0.0        |[86296.0,2.36,14.9,21.89,1.99,0.0,2.5,0.0]  |[-86295.56195216638,276.08563659250444,-5.2479135456641615]|86296.00375138767|\n",
      "|86336        |1.39         |10.7       |15.7        |0.0       |0.0         |2.5                 |0.0        |[86336.0,1.39,10.7,15.7,0.0,0.0,2.5,0.0]    |[-86335.53493276623,283.8840315524574,-5.089872166134988]  |86336.00180791943|\n",
      "|86329        |6.64         |32.4       |34.9        |0.0       |0.0         |0.0                 |0.0        |(8,[0,1,2,3],[86329.0,6.64,32.4,34.9])      |[-86328.63661566026,255.0103107185089,-4.070562418488215]  |86329.01335441503|\n",
      "|85458        |1.84         |10.7       |15.7        |0.0       |0.0         |2.5                 |0.0        |[85458.0,1.84,10.7,15.7,0.0,0.0,2.5,0.0]    |[-85457.54058432132,280.7392175169453,-4.607403958319215]  |85458.00183983563|\n",
      "|84809        |5.06         |26.1       |37.32       |6.22      |0.0         |2.5                 |0.0        |[84809.0,5.06,26.1,37.32,6.22,0.0,2.5,0.0]  |[-84808.63939325695,251.35816431221323,-5.361204498414188] |84809.01205299336|\n",
      "|83794        |4.07         |19.8       |26.04       |1.24      |0.0         |2.5                 |0.0        |[83794.0,4.07,19.8,26.04,1.24,0.0,2.5,0.0]  |[-83793.59987287075,260.9317805842459,-4.3640502622689015] |83794.00625399062|\n",
      "|84724        |1.49         |10.0       |15.0        |0.0       |0.0         |2.5                 |0.0        |[84724.0,1.49,10.0,15.0,0.0,0.0,2.5,0.0]    |[-84723.5415064421,279.1846714045371,-4.778107880316493]   |84724.00163061751|\n",
      "|86332        |1.44         |10.7       |17.27       |1.57      |0.0         |2.5                 |0.0        |[86332.0,1.44,10.7,17.27,1.57,0.0,2.5,0.0]  |[-86331.539599205,282.513942469534,-5.240452806249958]     |86332.00201060518|\n",
      "|78481        |18.81        |70.0       |82.69       |0.0       |6.94        |2.5                 |1.75       |[78481.0,18.81,70.0,82.69,0.0,6.94,2.5,1.75]|[-78480.90237124496,165.52672813487763,-0.6420275127263977]|78481.07693269   |\n",
      "+-------------+-------------+-----------+------------+----------+------------+--------------------+-----------+--------------------------------------------+-----------------------------------------------------------+-----------------+\n",
      "only showing top 20 rows\n",
      "\n"
     ]
    }
   ],
   "source": [
    "from pyspark.sql.functions import udf\n",
    "from pyspark.sql.types import DoubleType\n",
    "from pyspark.sql.functions import col\n",
    "from pyspark.ml.linalg import Vectors\n",
    "\n",
    "# Define a UDF to compute the norm (Euclidean distance) of the PCA features\n",
    "def pca_norm(pca_vector):\n",
    "    return float(Vectors.norm(pca_vector, 2))\n",
    "\n",
    "norm_udf = udf(pca_norm, DoubleType())\n",
    "\n",
    "# Add a column for the norm of the PCA features\n",
    "pca_result = pca_result.withColumn(\"pca_norm\", norm_udf(col(\"pca_features\")))\n",
    "\n",
    "# Calculate mean and standard deviation of PCA norms using describe\n",
    "error_stats = pca_result.select(\"pca_norm\").describe().toPandas()\n",
    "\n",
    "# Extract mean and std values\n",
    "mean_norm = float(error_stats[error_stats['summary'] == 'mean']['pca_norm'].iloc[0])\n",
    "std_norm = float(error_stats[error_stats['summary'] == 'stddev']['pca_norm'].iloc[0])\n",
    "\n",
    "# Define a threshold for anomalies (e.g., mean + 3 * std)\n",
    "threshold = mean_norm + 3 * std_norm\n",
    "\n",
    "# Label anomalies\n",
    "anomalies = pca_result.filter(col(\"pca_norm\") > threshold)\n",
    "\n",
    "# Show anomalies\n",
    "anomalies.show(truncate=False)"
   ]
  },
  {
   "cell_type": "code",
   "execution_count": 8,
   "metadata": {},
   "outputs": [
    {
     "name": "stderr",
     "output_type": "stream",
     "text": [
      "                                                                                \r"
     ]
    },
    {
     "data": {
      "image/png": "[encoded data removed]",
      "text/plain": [
       "<Figure size 1000x600 with 1 Axes>"
      ]
     },
     "metadata": {},
     "output_type": "display_data"
    }
   ],
   "source": [
    "import pandas as pd\n",
    "import matplotlib.pyplot as plt\n",
    "import seaborn as sns\n",
    "\n",
    "# Convert the Spark DataFrame to a Pandas DataFrame\n",
    "pca_result_pd = pca_result.select(\"pca_features\", \"pca_norm\").toPandas()\n",
    "anomalies_pd = anomalies.select(\"pca_features\", \"pca_norm\").toPandas()\n",
    "\n",
    "# Extract PCA components for plotting\n",
    "pca_components = pd.DataFrame(pca_result_pd[\"pca_features\"].values.tolist(), columns=[\"PCA1\", \"PCA2\", \"PCA3\"])\n",
    "anomaly_components = pd.DataFrame(anomalies_pd[\"pca_features\"].values.tolist(), columns=[\"PCA1\", \"PCA2\", \"PCA3\"])\n",
    "\n",
    "# Add the pca_norm to the components DataFrame\n",
    "pca_components[\"pca_norm\"] = pca_result_pd[\"pca_norm\"]\n",
    "anomaly_components[\"pca_norm\"] = anomalies_pd[\"pca_norm\"]\n",
    "\n",
    "# Plot the first two PCA components\n",
    "plt.figure(figsize=(10, 6))\n",
    "sns.scatterplot(x=\"PCA1\", y=\"PCA2\", data=pca_components, label=\"Normal Data\", alpha=0.5)\n",
    "sns.scatterplot(x=\"PCA1\", y=\"PCA2\", data=anomaly_components, label=\"Anomalies\", color=\"red\", alpha=0.7)\n",
    "plt.title(\"PCA Components with Anomalies Highlighted\")\n",
    "plt.xlabel(\"PCA Component 1\")\n",
    "plt.ylabel(\"PCA Component 2\")\n",
    "plt.legend()\n",
    "plt.show()"
   ]
  },
  {
   "cell_type": "code",
   "execution_count": 9,
   "metadata": {},
   "outputs": [
    {
     "name": "stderr",
     "output_type": "stream",
     "text": [
      "                                                                                \r"
     ]
    },
    {
     "name": "stdout",
     "output_type": "stream",
     "text": [
      "Summary Statistics for Normal Data:\n",
      "       trip_duration  trip_distance   fare_amount  total_amount    tip_amount  \\\n",
      "count   2.821055e+06   2.821055e+06  2.821055e+06  2.821055e+06  2.821055e+06   \n",
      "mean    8.848941e+02   3.240007e+00  1.805609e+01  2.682452e+01  3.426071e+00   \n",
      "std     7.073857e+02   4.595700e+00  1.833938e+01  2.301787e+01  3.914795e+00   \n",
      "min     1.000000e+00   0.000000e+00 -8.000000e+02 -8.010000e+02 -8.000000e+01   \n",
      "25%     4.240000e+02   1.000000e+00  8.600000e+00  1.530000e+01  1.000000e+00   \n",
      "50%     6.900000e+02   1.670000e+00  1.280000e+01  2.000000e+01  2.800000e+00   \n",
      "75%     1.113000e+03   3.100000e+00  1.980000e+01  2.850000e+01  4.200000e+00   \n",
      "max     7.349000e+03   1.715220e+03  8.200000e+02  8.210000e+02  4.280000e+02   \n",
      "\n",
      "       tolls_amount  congestion_surcharge   airport_fee  \n",
      "count  2.821055e+06          2.821055e+06  2.821055e+06  \n",
      "mean   5.346751e-01          2.256805e+00  1.410841e-01  \n",
      "std    2.141064e+00          8.225141e-01  4.875100e-01  \n",
      "min   -8.000000e+01         -2.500000e+00 -1.750000e+00  \n",
      "25%    0.000000e+00          2.500000e+00  0.000000e+00  \n",
      "50%    0.000000e+00          2.500000e+00  0.000000e+00  \n",
      "75%    0.000000e+00          2.500000e+00  0.000000e+00  \n",
      "max    1.159200e+02          2.500000e+00  1.750000e+00  \n",
      "\n",
      "Summary Statistics for Anomalous Data:\n",
      "       trip_duration  trip_distance  fare_amount  total_amount   tip_amount  \\\n",
      "count    2648.000000    2648.000000  2648.000000   2648.000000  2648.000000   \n",
      "mean    55601.462236      19.083297    39.529517     47.765566     2.647889   \n",
      "std     36759.558533     366.456488    87.483773     90.194109     6.844108   \n",
      "min      1928.000000       0.000000  -899.000000   -900.000000     0.000000   \n",
      "25%     10637.750000       1.420000    11.400000     17.640000     0.000000   \n",
      "50%     82862.500000       3.280000    21.900000     28.240000     0.000000   \n",
      "75%     85625.250000      13.800000    49.500000     57.035000     2.940000   \n",
      "max    567324.000000   15400.320000  2221.300000   2225.300000   141.490000   \n",
      "\n",
      "       tolls_amount  congestion_surcharge  airport_fee  \n",
      "count   2648.000000           2648.000000  2648.000000  \n",
      "mean       1.332779              1.765483     0.222054  \n",
      "std        4.015253              1.153396     0.592440  \n",
      "min      -37.060000             -2.500000    -1.750000  \n",
      "25%        0.000000              0.000000     0.000000  \n",
      "50%        0.000000              2.500000     0.000000  \n",
      "75%        0.000000              2.500000     0.000000  \n",
      "max       57.320000              2.500000     1.750000  \n"
     ]
    }
   ],
   "source": [
    "# Extract normal data (excluding anomalies)\n",
    "normal_data = pca_result.filter(col(\"pca_norm\") <= threshold).select(\"trip_duration\", \"trip_distance\", \"fare_amount\", \"total_amount\", \"tip_amount\", \"tolls_amount\", \"congestion_surcharge\", \"airport_fee\")\n",
    "normal_data_pd = normal_data.toPandas()\n",
    "anomalies_pd = anomalies.select(\"trip_duration\", \"trip_distance\", \"fare_amount\", \"total_amount\", \"tip_amount\", \"tolls_amount\", \"congestion_surcharge\", \"airport_fee\").toPandas()\n",
    "\n",
    "# Calculate summary statistics for normal and anomalous data\n",
    "normal_summary = normal_data_pd.describe()\n",
    "anomalies_summary = anomalies_pd.describe()\n",
    "\n",
    "print(\"Summary Statistics for Normal Data:\")\n",
    "print(normal_summary)\n",
    "\n",
    "print(\"\\nSummary Statistics for Anomalous Data:\")\n",
    "print(anomalies_summary)"
   ]
  },
  {
   "cell_type": "code",
   "execution_count": null,
   "metadata": {},
   "outputs": [],
   "source": []
  }
 ],
 "metadata": {
  "kernelspec": {
   "display_name": "Python 3 (ipykernel)",
   "language": "python",
   "name": "python3"
  },
  "language_info": {
   "codemirror_mode": {
    "name": "ipython",
    "version": 3
   },
   "file_extension": ".py",
   "mimetype": "text/x-python",
   "name": "python",
   "nbconvert_exporter": "python",
   "pygments_lexer": "ipython3",
   "version": "3.11.7"
  }
 },
 "nbformat": 4,
 "nbformat_minor": 4
}
